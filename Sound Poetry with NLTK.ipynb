{
 "cells": [
  {
   "cell_type": "code",
   "execution_count": null,
   "metadata": {},
   "outputs": [],
   "source": [
    "import sys\n",
    "!{sys.executable} -m pip install --user -U nltk"
   ]
  },
  {
   "cell_type": "code",
   "execution_count": null,
   "metadata": {},
   "outputs": [],
   "source": [
    "!{sys.executable} -m pip install matplotlib"
   ]
  },
  {
   "cell_type": "code",
   "execution_count": null,
   "metadata": {},
   "outputs": [],
   "source": [
    "!{sys.executable} -m pip install --user -U numpy"
   ]
  },
  {
   "cell_type": "code",
   "execution_count": null,
   "metadata": {},
   "outputs": [],
   "source": [
    "import nltk\n",
    "nltk.download('punkt')\n",
    "nltk.download('movie_reviews')"
   ]
  },
  {
   "cell_type": "markdown",
   "metadata": {},
   "source": [
    "Now let's import NLTK into our notebook (remember that you always need to use the import command for any Python libraries you want to use, whether that's TextBlob, Markovify, NLTK, or something else):"
   ]
  },
  {
   "cell_type": "code",
   "execution_count": null,
   "metadata": {},
   "outputs": [],
   "source": [
    "import nltk"
   ]
  },
  {
   "cell_type": "markdown",
   "metadata": {},
   "source": [
    "Let's also download all the subsidiary packages associated with NLTK:"
   ]
  },
  {
   "cell_type": "code",
   "execution_count": null,
   "metadata": {},
   "outputs": [],
   "source": [
    "nltk.download('all')"
   ]
  },
  {
   "cell_type": "markdown",
   "metadata": {},
   "source": [
    "## Sound Poetry with NLTK\n",
    "\n",
    "Sound poetry elevates the phonetic aspects of language over the semantic. Alternatively, sound poetry might entail a harmony between sound and sense such that the former seems to reinforce the latter. The resulting poetry or prose-poems are designed to be read aloud and performed in order to highlight their sonic qualities. A classic eighteenth-century example of sound poetry is Alexander Pope's [\"Sound and Sense.\"](http://www.tnellen.com/cybereng/poetry/sound.html). Consider the following line, where sound echoes sense: \"Soft is the strain when Zephyr gently blows.\" All the sibilant \"s\" sounds are reminiscent of the gentle winds the poem invokes. Incantations, chants, nursery rhymes, whisper games, folk songs, nonsense verse, and mouth music are all examples of the genre listed by Steve McCaffery in his [survey of sound poetry](https://www.ubu.com/papers/mccaffery.html).  \n",
    "\n",
    "In Carolyn Lamb et.al's [\"A Taxonomy of Generative Poetry Techniques\"](https://archive.bridgesmathart.org/2016/bridges2016-195.pdf), the authors discuss different methods of cooperation between human and machine to generate poetry (their two examples are \"human enhancement\" of computer-generated verse and \"computer enhancement\" of human-generated verse). For this exercise, we'll adopt a similar hybrid method. Using NLTK's dictionary of words and advanced statistical functions, we'll create what's called a \"Target\" Word Puzzle, modifying code from the freely available [NLTK book](https://www.nltk.org/book/ch02.html#ref-freqdist-compare) by Steven Bird, Ewan Klein, and Edward Loper. The output from this puzzle will form the raw material for our sound poetry. The NLTK book is released under a [Creative Commons Attribution Noncommercial No-Derivative-Works 3.0 US License](https://creativecommons.org/licenses/by-nc-nd/3.0/us/)."
   ]
  },
  {
   "cell_type": "markdown",
   "metadata": {},
   "source": [
    "### Group Work Instructions: Sound Poetry\n",
    "\n",
    "As a group, begin by altering the first line of code to specify which combination of letters you want to use to constrain your sound poetry. You'll do this by replacing \"egivronl\" in the parentheses with your own 9 letters/sounds, being sure to leave the rest of the code in that line intact. I'd suggest choosing 3 vowels and 6 consonants for your first effort. In the second line of code, select 1 letter among the 9 to be obligatory: in other words, a letter that must appear in every word. This will be the predominant sound you hear in the list of generated words, with the other 8 letters/sounds providing a backup sound system. I'd suggest you make this obligatory letter a consonant in your initial experiments. The last parameter you might want to play with is len() in the last line of code. Currently, the output will consist of all words in NLTK's dictionary that are 6 or more letters long and which meet your specified letter/sound constraints. For your first set of experiments, keep \"6\" as the length value, but feel free to change that number after a few rounds.  \n",
    "Once you've generated a list of candidate words, use a chosen subset of them to write one long poetic sentence. All your content words (e.g., nouns, verbs, adjectives, and adverbs) should be chosen from this list. You can supply your own function words (e.g., articles, prepositions, conjunctions). Be sure to record that sentence in your notebook in a Markdown cell. Then start playing with some of the other parameters, taking note of what sorts of changes yield interesting results (e.g., specifying shorter or longer words, for example, or playing with the proportion of vowels to consonants in your string of letters, or having more than one obligatory letter). Write new sentences or poetic lines based on these outputs. Be sure to save your best efforts by copying them into a Markdown cell. Also jot down any notes about what parameters seemed to generate the most compelling results.  \n",
    "\n",
    "Example: Using the sequence \"aserhvinp\" to constrain my poetic vocabulary, with the added stipulation that \"s\" be obligatory, I composed the following sentence with a lot of sibilant sounds:  \n",
    "\n",
    ">\"Arisen, she aspires to praise the ravens before the sniper vanishes to shiver at the shrine.\"  \n",
    "\n",
    "\"S\" is the topnote, but \"r,\" \"p,\" \"n\", etc. are the basenotes in this sonic sentence.  \n",
    "\n",
    "Once you've created a few sentences, go further by completing a more ambitious version of this exercise: a three-stanza poem, with each stanza reflecting a different set of letter/sound constraints. \n",
    "\n",
    "Once you're done, post your sample sentences and 3-stanza poem to the Discussion board, signing the names of all group members. Be sure to include any notes about procedures and techniques, and attach a copy of your notebook. This post will count toward one of your \"Going Further\" posts for each group member. Whoever was generating the code in their notebook should email the resulting .ipynb file to the rest of the group members so that everyone has a copy for their final code portfolios. "
   ]
  },
  {
   "cell_type": "code",
   "execution_count": null,
   "metadata": {},
   "outputs": [],
   "source": [
    "puzzle_letters = nltk.FreqDist('egivrvonl') #source code: https://www.nltk.org/book/\n",
    "obligatory = 'r'\n",
    "wordlist = nltk.corpus.words.words()\n",
    "[w for w in wordlist if len(w) >= 6 and obligatory in w and nltk.FreqDist(w) <= puzzle_letters]"
   ]
  },
  {
   "cell_type": "code",
   "execution_count": null,
   "metadata": {},
   "outputs": [],
   "source": [
    "puzzle_letters = nltk.FreqDist('aserhvinp')\n",
    "obligatory = 's'\n",
    "wordlist = nltk.corpus.words.words()\n",
    "[w for w in wordlist if len(w) >= 6 and obligatory in w and nltk.FreqDist(w) <= puzzle_letters]"
   ]
  },
  {
   "cell_type": "code",
   "execution_count": null,
   "metadata": {},
   "outputs": [],
   "source": []
  }
 ],
 "metadata": {
  "kernelspec": {
   "display_name": "Python 3",
   "language": "python",
   "name": "python3"
  },
  "language_info": {
   "codemirror_mode": {
    "name": "ipython",
    "version": 3
   },
   "file_extension": ".py",
   "mimetype": "text/x-python",
   "name": "python",
   "nbconvert_exporter": "python",
   "pygments_lexer": "ipython3",
   "version": "3.7.6"
  }
 },
 "nbformat": 4,
 "nbformat_minor": 4
}
